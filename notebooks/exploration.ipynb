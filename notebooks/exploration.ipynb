{
 "cells": [
  {
   "cell_type": "markdown",
   "metadata": {},
   "source": [
    "# Exploration of Point Cloud Data\n",
    "\n",
    "This notebook is used for exploratory data analysis and visualization of the point cloud data and labels from the training dataset."
   ]
  },
  {
   "cell_type": "code",
   "execution_count": null,
   "metadata": {
    "collapsed": false
   },
   "outputs": [],
   "source": [
    "import h5py as h5\n",
    "import numpy as np\n",
    "import plotly.graph_objects as go\n",
    "\n",
    "# Load the point cloud data from the HDF5 file\n",
    "with h5.File('../data/train_xyze_1e4.h5', 'r') as f:\n",
    "    pts = f['data'][:]\n",
    "\n",
    "# Load the labels from the HDF5 file\n",
    "with h5.File('../data/train_label_1e4.h5', 'r') as f:\n",
    "    labels = f['labels'][:]\n",
    "\n",
    "# Visualize a sample point cloud\n",
    "entry = 0  # Change this to visualize different entries\n",
    "print('Visualizing entry', entry)\n",
    "d = go.Scatter3d(x=pts[entry][:, 0], y=pts[entry][:, 1], z=pts[entry][:, 2],\n",
    "                  mode='markers',\n",
    "                  marker=dict(size=2, color=labels[entry], colorscale='Viridis'))\n",
    "\n",
    "fig = go.Figure(data=[d])\n",
    "fig.update_layout(width=1200, height=800,\n",
    "                  scene=dict(xaxis_title='X', yaxis_title='Y', zaxis_title='Z'),\n",
    "                  title='3D Scatter Plot of Point Cloud')\n",
    "fig.show()"
   ]
  },
  {
   "cell_type": "markdown",
   "metadata": {},
   "source": [
    "## Summary Statistics\n",
    "\n",
    "Let's compute some summary statistics for the point cloud data and labels."
   ]
  },
  {
   "cell_type": "code",
   "execution_count": null,
   "metadata": {
    "collapsed": false
   },
   "outputs": [],
   "source": [
    "# Summary statistics for point cloud data\n",
    "print('Point cloud data shape:', pts.shape)\n",
    "print('Labels shape:', labels.shape)\n",
    "\n",
    "# Unique labels\n",
    "unique_labels = np.unique(labels)\n",
    "print('Unique labels:', unique_labels)\n",
    "print('Number of unique labels:', len(unique_labels))"
   ]
  }
 ],
 "metadata": {
  "kernelspec": {
   "display_name": "Python 3",
   "language": "python",
   "name": "python3"
  },
  "language_info": {
   "codemirror_mode": {
    "name": "ipython",
    "version": 3
   },
   "file_extension": ".py",
   "mimetype": "text/x-python",
   "name": "python",
   "nbconvert_exporter": "python",
   "pygments_lexer": "ipython3",
   "version": "3.8.5"
  }
 },
 "nbformat": 4,
 "nbformat_minor": 4
}